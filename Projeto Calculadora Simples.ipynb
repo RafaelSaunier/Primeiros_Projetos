{
 "cells": [
  {
   "cell_type": "code",
   "execution_count": null,
   "id": "b22deeeb",
   "metadata": {},
   "outputs": [
    {
     "name": "stdout",
     "output_type": "stream",
     "text": [
      "\n",
      "==================================================\n",
      "            🧮 Minha Calculadora 🧮            \n",
      "==================================================\n",
      "\n",
      "Selecionar Operação: \n",
      "\n",
      "1 - Soma\n",
      "2 - Subtração\n",
      "3 - Multiplicação\n",
      "4 - Divisão\n"
     ]
    }
   ],
   "source": [
    "# Criando a apresentação\n",
    "print(\"\\n\" + \"=\"*50)\n",
    "print(\" \"*12 + \"🧮 Minha Calculadora 🧮\" + \" \"*12)\n",
    "print(\"=\"*50)\n",
    "\n",
    "# Criando as definições das operações da calculadora\n",
    "# Usando a função def para de definir as operações disponíveis\n",
    "# Nesse caso usei apenas 4 operações\n",
    "\n",
    "def soma(x, y):\n",
    "    return x + y\n",
    "\n",
    "def sub(x, y):\n",
    "    return x - y\n",
    "\n",
    "def mult(x, y):\n",
    "    return x * y\n",
    "\n",
    "def div(x, y):\n",
    "    return x / y\n",
    "\n",
    "\n",
    "# Criando o painel de Seleção para indicar a operação\n",
    "\n",
    "print(\"\\nSelecionar Operação: \\n\")\n",
    "print(\"1 - Soma\")\n",
    "print(\"2 - Subtração\")\n",
    "print(\"3 - Multiplicação\")\n",
    "print(\"4 - Divisão\")\n",
    "\n",
    "# Criando os Inputs para selecionar a operação e valores\n",
    "\n",
    "escolha = input(\"\\nDigite sua opção (1/2/3/4): \")\n",
    "20\n",
    "num1 = int(input(\"\\nDigite o primeiro número: \"))\n",
    "num2 = int(input(\"\\nDigite o segundo número: \"))\n",
    "\n",
    "# Condicional criando a regra das operações\n",
    "\n",
    "if escolha == '1':\n",
    "    print(\"\\n\")\n",
    "    print(num1, \"+\", num2, \"=\", soma(num1, num2))\n",
    "    print(\"\\n\")\n",
    "\n",
    "elif escolha == '2':\n",
    "    print(\"\\n\")\n",
    "    print(num1, \"-\", num2, \"=\", sub(num1, num2))\n",
    "    print(\"\\n\")\n",
    "\n",
    "elif escolha == '3':\n",
    "    print(\"\\n\")\n",
    "    print(num1, \"*\", num2, \"=\", mult(num1, num2))\n",
    "    print(\"\\n\")\n",
    "\n",
    "elif escolha == '4':\n",
    "    print(\"\\n\")\n",
    "    print(num1, \"/\", num2, \"=\", div(num1, num2))\n",
    "    print(\"\\n\")\n",
    "\n",
    "# Alternativa em caso de imputs inválidos\n",
    "\n",
    "else:\n",
    "    print(\"\\nOpção Inválida!\")\n"
   ]
  },
  {
   "cell_type": "code",
   "execution_count": null,
   "id": "4858a3bd",
   "metadata": {},
   "outputs": [],
   "source": []
  },
  {
   "cell_type": "code",
   "execution_count": null,
   "id": "5a6b9ae6",
   "metadata": {},
   "outputs": [],
   "source": []
  }
 ],
 "metadata": {
  "kernelspec": {
   "display_name": "Python 3 (ipykernel)",
   "language": "python",
   "name": "python3"
  },
  "language_info": {
   "codemirror_mode": {
    "name": "ipython",
    "version": 3
   },
   "file_extension": ".py",
   "mimetype": "text/x-python",
   "name": "python",
   "nbconvert_exporter": "python",
   "pygments_lexer": "ipython3",
   "version": "3.9.13"
  }
 },
 "nbformat": 4,
 "nbformat_minor": 5
}
